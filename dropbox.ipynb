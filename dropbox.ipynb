{
  "nbformat": 4,
  "nbformat_minor": 0,
  "metadata": {
    "colab": {
      "provenance": [],
      "authorship_tag": "ABX9TyPr9YDgqLd+P7ff74I69K6w",
      "include_colab_link": true
    },
    "kernelspec": {
      "name": "python3",
      "display_name": "Python 3"
    },
    "language_info": {
      "name": "python"
    }
  },
  "cells": [
    {
      "cell_type": "markdown",
      "metadata": {
        "id": "view-in-github",
        "colab_type": "text"
      },
      "source": [
        "<a href=\"https://colab.research.google.com/github/MohamedHamed12/automation/blob/main/dropbox.ipynb\" target=\"_parent\"><img src=\"https://colab.research.google.com/assets/colab-badge.svg\" alt=\"Open In Colab\"/></a>"
      ]
    },
    {
      "cell_type": "code",
      "source": [
        "!pip install dropbox\n"
      ],
      "metadata": {
        "colab": {
          "base_uri": "https://localhost:8080/"
        },
        "id": "s3HkyRyXhMX3",
        "outputId": "9887aeb3-3f5a-4f9c-a53e-1b629fb55c05"
      },
      "execution_count": null,
      "outputs": [
        {
          "output_type": "stream",
          "name": "stdout",
          "text": [
            "Collecting dropbox\n",
            "  Downloading dropbox-12.0.2-py3-none-any.whl (572 kB)\n",
            "\u001b[2K     \u001b[90m━━━━━━━━━━━━━━━━━━━━━━━━━━━━━━━━━━━━━━━━\u001b[0m \u001b[32m572.1/572.1 kB\u001b[0m \u001b[31m6.4 MB/s\u001b[0m eta \u001b[36m0:00:00\u001b[0m\n",
            "\u001b[?25hRequirement already satisfied: requests>=2.16.2 in /usr/local/lib/python3.10/dist-packages (from dropbox) (2.31.0)\n",
            "Requirement already satisfied: six>=1.12.0 in /usr/local/lib/python3.10/dist-packages (from dropbox) (1.16.0)\n",
            "Collecting stone<3.3.3,>=2 (from dropbox)\n",
            "  Downloading stone-3.3.1-py3-none-any.whl (162 kB)\n",
            "\u001b[2K     \u001b[90m━━━━━━━━━━━━━━━━━━━━━━━━━━━━━━━━━━━━━━━━\u001b[0m \u001b[32m162.3/162.3 kB\u001b[0m \u001b[31m7.8 MB/s\u001b[0m eta \u001b[36m0:00:00\u001b[0m\n",
            "\u001b[?25hRequirement already satisfied: charset-normalizer<4,>=2 in /usr/local/lib/python3.10/dist-packages (from requests>=2.16.2->dropbox) (3.3.2)\n",
            "Requirement already satisfied: idna<4,>=2.5 in /usr/local/lib/python3.10/dist-packages (from requests>=2.16.2->dropbox) (3.7)\n",
            "Requirement already satisfied: urllib3<3,>=1.21.1 in /usr/local/lib/python3.10/dist-packages (from requests>=2.16.2->dropbox) (2.0.7)\n",
            "Requirement already satisfied: certifi>=2017.4.17 in /usr/local/lib/python3.10/dist-packages (from requests>=2.16.2->dropbox) (2024.6.2)\n",
            "Collecting ply>=3.4 (from stone<3.3.3,>=2->dropbox)\n",
            "  Downloading ply-3.11-py2.py3-none-any.whl (49 kB)\n",
            "\u001b[2K     \u001b[90m━━━━━━━━━━━━━━━━━━━━━━━━━━━━━━━━━━━━━━━━\u001b[0m \u001b[32m49.6/49.6 kB\u001b[0m \u001b[31m5.2 MB/s\u001b[0m eta \u001b[36m0:00:00\u001b[0m\n",
            "\u001b[?25hInstalling collected packages: ply, stone, dropbox\n",
            "Successfully installed dropbox-12.0.2 ply-3.11 stone-3.3.1\n"
          ]
        }
      ]
    },
    {
      "cell_type": "code",
      "source": [
        "import webbrowser\n",
        "\n",
        "APP_KEY = '---'\n",
        "APP_SECRET = '----'\n",
        "\n",
        "url = f'https://www.dropbox.com/oauth2/authorize?client_id={APP_KEY}&' \\\n",
        "      f'response_type=code&token_access_type=offline'\n",
        "\n",
        "print(url)"
      ],
      "metadata": {
        "colab": {
          "base_uri": "https://localhost:8080/"
        },
        "id": "l6KT3lpGqWaS",
        "outputId": "0b6abd1c-c1ad-48c6-a31c-d474ddaafc77"
      },
      "execution_count": null,
      "outputs": [
        {
          "output_type": "stream",
          "name": "stdout",
          "text": [
            "https://www.dropbox.com/oauth2/authorize?client_id=7tw6m4r1aleae0v&response_type=code&token_access_type=offline\n"
          ]
        }
      ]
    },
    {
      "cell_type": "code",
      "source": [
        "import base64\n",
        "import requests\n",
        "import json\n",
        "\n",
        "\n",
        "ACCESS_CODE_GENERATED = input().strip()\n",
        "\n",
        "BASIC_AUTH = base64.b64encode(f'{APP_KEY}:{APP_SECRET}'.encode())\n",
        "\n",
        "headers = {\n",
        "    'Authorization': f\"Basic {BASIC_AUTH}\",\n",
        "    'Content-Type': 'application/x-www-form-urlencoded',\n",
        "}\n",
        "\n",
        "data = f'code={ACCESS_CODE_GENERATED}&grant_type=authorization_code'\n",
        "\n",
        "response = requests.post('https://api.dropboxapi.com/oauth2/token',\n",
        "                         data=data,\n",
        "                         auth=(APP_KEY, APP_SECRET))\n",
        "print(json.dumps(json.loads(response.text), indent=2))"
      ],
      "metadata": {
        "id": "cnNlPEW3qfWB"
      },
      "execution_count": 1,
      "outputs": []
    }
  ]
}